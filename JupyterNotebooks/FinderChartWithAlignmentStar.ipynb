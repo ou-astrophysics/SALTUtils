{
 "cells": [
  {
   "cell_type": "markdown",
   "metadata": {},
   "source": [
    "## Generate finder charts for SALT RSS\n",
    "Includes automatic alignment star selection and position angle computation for faint targets."
   ]
  },
  {
   "cell_type": "code",
   "execution_count": null,
   "metadata": {},
   "outputs": [],
   "source": [
    "%load_ext lab_black"
   ]
  },
  {
   "cell_type": "code",
   "execution_count": null,
   "metadata": {},
   "outputs": [],
   "source": [
    "import numpy as np\n",
    "import astropy as ap\n",
    "import regions\n",
    "import astropy.coordinates as apcoords\n",
    "import astropy.units as apunits\n",
    "import astropy.io.fits as apfits\n",
    "import astropy.table as aptable\n",
    "import astropy.visualization as apviz\n",
    "import astropy.wcs as apwcs\n",
    "import astropy.time as aptime\n",
    "import matplotlib.pyplot as mplplot\n",
    "import pandas as pd"
   ]
  },
  {
   "cell_type": "markdown",
   "metadata": {},
   "source": [
    "Expects a CSV file with at least the following columns:\n",
    "* target name\n",
    "* target type\n",
    "* optional\n",
    "* right ascension\n",
    "* declination\n",
    "* equinox\n",
    "* bandpass\n",
    "* minimum magnitude\n",
    "* maximum magnitude"
   ]
  },
  {
   "cell_type": "code",
   "execution_count": null,
   "metadata": {},
   "outputs": [],
   "source": [
    "targetDataCsv = ??"
   ]
  },
  {
   "cell_type": "code",
   "execution_count": null,
   "metadata": {},
   "outputs": [],
   "source": [
    "targetData = pd.read_csv(targetDataCsv)"
   ]
  },
  {
   "cell_type": "code",
   "execution_count": null,
   "metadata": {},
   "outputs": [],
   "source": [
    "targetCoords = apcoords.SkyCoord(\n",
    "    ra=targetData[\"right ascension\"], dec=targetData.declination, unit=\"deg\"\n",
    ")"
   ]
  },
  {
   "cell_type": "code",
   "execution_count": null,
   "metadata": {},
   "outputs": [],
   "source": [
    "targetData = pd.concat(\n",
    "    [\n",
    "        targetData,\n",
    "        pd.DataFrame(\n",
    "            np.array(\n",
    "                [\n",
    "                    targetCoords.ra.to_string(sep=\" \", pad=False, unit=\"hour\"),\n",
    "                    targetCoords.dec.to_string(sep=\" \", alwayssign=True, pad=False),\n",
    "                ]\n",
    "            ).T,\n",
    "            columns=[\"ra\", \"dec\"],\n",
    "        ),\n",
    "    ],\n",
    "    axis=1,\n",
    ")"
   ]
  },
  {
   "cell_type": "markdown",
   "metadata": {},
   "source": [
    "Specify a subset of the targets in your CSV file"
   ]
  },
  {
   "cell_type": "code",
   "execution_count": null,
   "metadata": {},
   "outputs": [],
   "source": [
    "targets = [??]"
   ]
  },
  {
   "cell_type": "code",
   "execution_count": null,
   "metadata": {},
   "outputs": [],
   "source": [
    "targetData.set_index(\"target name\").loc[targets]"
   ]
  },
  {
   "cell_type": "markdown",
   "metadata": {},
   "source": [
    "Specify a directory to store data"
   ]
  },
  {
   "cell_type": "code",
   "execution_count": null,
   "metadata": {},
   "outputs": [],
   "source": [
    "dataDir = ??"
   ]
  },
  {
   "cell_type": "markdown",
   "metadata": {},
   "source": [
    "This saves a file in the format required to download a set of FITS images from `http://www-wfau.roe.ac.uk/sss/batchfile.html`"
   ]
  },
  {
   "cell_type": "code",
   "execution_count": null,
   "metadata": {},
   "outputs": [],
   "source": [
    "with open(f\"{dataDir}/requiredChartObjCoords.txt\", mode=\"w\") as coordFile:\n",
    "    coordFile.write(\n",
    "        \"\\n\".join(\n",
    "            [\n",
    "                \" \".join(t)\n",
    "                for t in targetData.set_index(\"target name\")\n",
    "                .loc[targets, [\"ra\", \"dec\"]]\n",
    "                .to_numpy()\n",
    "            ]\n",
    "        )\n",
    "    )"
   ]
  },
  {
   "cell_type": "markdown",
   "metadata": {},
   "source": [
    "Use file to download data from `http://www-wfau.roe.ac.uk/sss/batchfile.html` before proceeding.\n",
    "\n",
    "This should copy the files you donloaded and name them according to their corresponding targets. May be a bit unreliable."
   ]
  },
  {
   "cell_type": "code",
   "execution_count": null,
   "metadata": {},
   "outputs": [],
   "source": [
    "import shutil\n",
    "import glob\n",
    "import os\n",
    "\n",
    "if not os.path.exists(f\"{dataDir}/fits\"):\n",
    "    os.mkdir(f\"{dataDir}/fits\")\n",
    "\n",
    "fitsFiles = sorted(glob.glob(f\"{dataDir}/fits/*.fits\"))\n",
    "for target, file in zip(targets, fitsFiles):\n",
    "    shutil.copy(file, os.path.join(os.path.dirname(file), f\"{target}.fits\"))"
   ]
  },
  {
   "cell_type": "markdown",
   "metadata": {},
   "source": [
    "### The actual plotting function\n",
    "\n",
    "* If `plotSelection==True` then all considered alignment stars will be plotted. \n",
    "* Specify an angle in degrees for `forcedPA` to disable automatic PA specification. \n",
    "* Use `customObjects` to specify a `dict` of label-`astropy.SkyCoord` key-value pairs to plot custom object locations."
   ]
  },
  {
   "cell_type": "code",
   "execution_count": null,
   "metadata": {},
   "outputs": [],
   "source": [
    "def plotTarget(target, plotSelection=True, forcedPA=None, customObjects=None):\n",
    "\n",
    "    targetCoords = targetData.set_index(\"target name\").loc[\n",
    "        target, [\"right ascension\", \"declination\"]\n",
    "    ]\n",
    "\n",
    "    with apfits.open(f\"{dataDir}/fits/{target}.fits\") as targetImageFits:\n",
    "        newHeader = targetImageFits[\"PRIMARY\"].header.copy()\n",
    "\n",
    "        for kw in targetImageFits[\"PRIMARY\"].header:\n",
    "            if \"PIXELSZ\" in kw:\n",
    "                newHeader.remove(kw)\n",
    "\n",
    "        ax = mplplot.figure(figsize=(15, 15)).add_subplot(\n",
    "            1, 1, 1, projection=apwcs.WCS(newHeader, fix=True)\n",
    "        )\n",
    "        ax.imshow(\n",
    "            targetImageFits[\"PRIMARY\"].data,\n",
    "            norm=apviz.ImageNormalize(\n",
    "                stretch=apviz.LinearStretch(),  # HistEqStretch(data=targetImageFits[\"PRIMARY\"].data),\n",
    "                interval=apviz.ZScaleInterval(),\n",
    "            ),\n",
    "            cmap=\"Greys\",\n",
    "        )\n",
    "        catalogue = aptable.Table(targetImageFits[1].data).to_pandas()\n",
    "        selection = catalogue.loc[(catalogue.R_2 < 17) & (catalogue.R_2 > 12)]\n",
    "        if forcedPA is None:\n",
    "            if plotSelection:\n",
    "                selection.plot.scatter(\n",
    "                    x=\"RA\",\n",
    "                    y=\"DEC\",\n",
    "                    ax=ax,\n",
    "                    transform=ax.get_transform(\"world\"),\n",
    "                    s=300,\n",
    "                    fc=\"none\",\n",
    "                    c=selection.R_2,\n",
    "                    cmap=\"viridis\",\n",
    "                    colorbar=False,\n",
    "                )\n",
    "        targetFrame = targetData.set_index(\"target name\").loc[target, :].to_frame().T\n",
    "        targetFrame.plot.scatter(\n",
    "            x=\"right ascension\",\n",
    "            y=\"declination\",\n",
    "            fc=\"none\",\n",
    "            s=300,\n",
    "            label=target,\n",
    "            ec=\"r\",\n",
    "            ax=ax,\n",
    "            transform=ax.get_transform(\"world\"),\n",
    "        )\n",
    "\n",
    "        selectionCoords = apcoords.SkyCoord(\n",
    "            ra=selection.RA, dec=selection.DEC, unit=\"deg\"\n",
    "        )\n",
    "        targetCoord = apcoords.SkyCoord(\n",
    "            ra=targetFrame[\"right ascension\"], dec=targetFrame.declination, unit=\"deg\"\n",
    "        )\n",
    "        if forcedPA is None:\n",
    "            closestIndex = selectionCoords.separation(targetCoord).argmin()\n",
    "            closestCoord = selectionCoords[closestIndex]\n",
    "            closestFrame = selection.iloc[closestIndex].to_frame().T\n",
    "            closestFrame[\"obs_time\"] = obsTime = aptime.Time(\n",
    "                newHeader[\"MJD-OBS\"], format=\"mjd\"\n",
    "            ).isot\n",
    "            closestFrame.plot.scatter(\n",
    "                x=\"RA\",\n",
    "                y=\"DEC\",\n",
    "                marker=\"s\",\n",
    "                s=500,\n",
    "                label=\"Alignment Star\",\n",
    "                fc=\"none\",\n",
    "                ec=\"r\",\n",
    "                ax=ax,\n",
    "                transform=ax.get_transform(\"world\"),\n",
    "            )\n",
    "\n",
    "            pa = targetCoord.position_angle(closestCoord).to(\"deg\").value[0]\n",
    "        else:\n",
    "            pa = forcedPA\n",
    "            closestFrame = pd.DataFrame(columns=selection.columns)\n",
    "\n",
    "        if customObjects is not None:\n",
    "            for counter, (label, coord) in enumerate(customObjects.items()):\n",
    "                ax.scatter(\n",
    "                    x=coord.ra,\n",
    "                    y=coord.dec,\n",
    "                    marker=\"s\",\n",
    "                    s=500,\n",
    "                    label=label,\n",
    "                    fc=\"none\",\n",
    "                    ec=\"r\",\n",
    "                    transform=ax.get_transform(\"world\"),\n",
    "                )\n",
    "\n",
    "        regions.RectangleSkyRegion(\n",
    "            center=targetCoord[0],\n",
    "            width=3 * apunits.arcsec,\n",
    "            height=8 * apunits.arcmin,\n",
    "            angle=pa * apunits.deg,\n",
    "        ).to_pixel(wcs=apwcs.WCS(newHeader, fix=True)).plot(ax=ax)\n",
    "\n",
    "        regions.CircleSkyRegion(\n",
    "            center=targetCoord[0], radius=4 * apunits.arcmin\n",
    "        ).to_pixel(wcs=apwcs.WCS(newHeader, fix=True)).plot(ax=ax, ec=\"b\")\n",
    "\n",
    "        regions.CircleSkyRegion(\n",
    "            center=targetCoord[0], radius=5 * apunits.arcmin\n",
    "        ).to_pixel(wcs=apwcs.WCS(newHeader, fix=True)).plot(ax=ax, ec=\"b\")\n",
    "\n",
    "        ax.legend(ncol=2, loc=\"lower center\", fontsize=\"x-large\")\n",
    "\n",
    "        ax.text(\n",
    "            0.95,\n",
    "            -0.05,\n",
    "            f\"PA = {pa:.1f}\",\n",
    "            transform=ax.transAxes,\n",
    "            style=\"italic\",\n",
    "            weight=\"bold\",\n",
    "            fontsize=\"xx-large\",\n",
    "        )\n",
    "\n",
    "        ax.text(\n",
    "            -0.05,\n",
    "            -0.05,\n",
    "            \"POSS2/UKSTU Blue\",\n",
    "            transform=ax.transAxes,\n",
    "            style=\"italic\",\n",
    "            weight=\"bold\",\n",
    "            fontsize=\"xx-large\",\n",
    "        )\n",
    "        ax.text(\n",
    "            0.79,\n",
    "            0.79,\n",
    "            \"RSS\",\n",
    "            transform=ax.transAxes,\n",
    "            style=\"italic\",\n",
    "            weight=\"bold\",\n",
    "            size=\"large\",\n",
    "            horizontalalignment=\"left\",\n",
    "            color=\"b\",\n",
    "            fontsize=\"xx-large\",\n",
    "        )\n",
    "        ax.text(\n",
    "            0.86,\n",
    "            0.86,\n",
    "            \"SCAM\",\n",
    "            transform=ax.transAxes,\n",
    "            style=\"italic\",\n",
    "            weight=\"bold\",\n",
    "            size=\"large\",\n",
    "            horizontalalignment=\"left\",\n",
    "            color=\"b\",\n",
    "            fontsize=\"xx-large\",\n",
    "        )\n",
    "\n",
    "        ax.text(\n",
    "            targetCoord.ra.value[0],\n",
    "            targetCoord.dec.value[0] + 4.8 / 60.0,\n",
    "            \"N\",\n",
    "            style=\"italic\",\n",
    "            weight=\"bold\",\n",
    "            size=\"large\",\n",
    "            color=(0, 0.5, 1),\n",
    "            transform=ax.get_transform(\"world\"),\n",
    "            fontsize=\"xx-large\",\n",
    "        )\n",
    "        ax.text(\n",
    "            targetCoord.ra.value[0]\n",
    "            + 4.8 / (np.abs(np.cos(targetCoord.dec.value[0] * np.pi / 180.0)) * 60),\n",
    "            targetCoord.dec.value[0],\n",
    "            \"E\",\n",
    "            style=\"italic\",\n",
    "            weight=\"bold\",\n",
    "            size=\"large\",\n",
    "            horizontalalignment=\"right\",\n",
    "            color=(0, 0.5, 1),\n",
    "            transform=ax.get_transform(\"world\"),\n",
    "            fontsize=\"xx-large\",\n",
    "        )\n",
    "\n",
    "        ax.set_title(f\"{target}\", style=\"italic\", weight=\"bold\", fontsize=\"xx-large\")\n",
    "        ax.set_ylabel(\"Dec. (ICRS)\", fontsize=\"xx-large\")\n",
    "        ax.set_xlabel(\"RA. (ICRS)\", fontsize=\"xx-large\")\n",
    "        lon, lat = (ax.coords[0], ax.coords[1])\n",
    "        lon.display_minor_ticks(True)\n",
    "        lat.display_minor_ticks(True)\n",
    "        lon.set_ticklabel(size=\"x-large\")\n",
    "        lat.set_ticklabel(size=\"x-large\")\n",
    "\n",
    "    mplplot.savefig(f\"{dataDir}/{target}.pdf\", bbox_inches=\"tight\", rasterize=True)\n",
    "    return closestFrame"
   ]
  },
  {
   "cell_type": "markdown",
   "metadata": {},
   "source": [
    "Example useage."
   ]
  },
  {
   "cell_type": "code",
   "execution_count": null,
   "metadata": {},
   "outputs": [],
   "source": [
    "plotSelection = False\n",
    "\n",
    "customObjects = {\n",
    "    \"Actual Target\": apcoords.SkyCoord(ra=\"13h57m01.95s\", dec=\"-47d48m10.0s\")\n",
    "}\n",
    "\n",
    "closestFrame_ = pd.concat(\n",
    "    [\n",
    "        plotTarget(target, plotSelection, forcedPA=0, customObjects=customObjects)\n",
    "        for target in targets\n",
    "    ]\n",
    ")"
   ]
  },
  {
   "cell_type": "code",
   "execution_count": null,
   "metadata": {},
   "outputs": [],
   "source": []
  }
 ],
 "metadata": {
  "kernelspec": {
   "display_name": "Python 3",
   "language": "python",
   "name": "python3"
  },
  "language_info": {
   "codemirror_mode": {
    "name": "ipython",
    "version": 3
   },
   "file_extension": ".py",
   "mimetype": "text/x-python",
   "name": "python",
   "nbconvert_exporter": "python",
   "pygments_lexer": "ipython3",
   "version": "3.7.6"
  }
 },
 "nbformat": 4,
 "nbformat_minor": 4
}
